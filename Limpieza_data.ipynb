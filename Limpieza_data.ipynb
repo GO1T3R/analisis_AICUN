{
  "nbformat": 4,
  "nbformat_minor": 0,
  "metadata": {
    "colab": {
      "provenance": []
    },
    "kernelspec": {
      "name": "python3",
      "display_name": "Python 3"
    },
    "language_info": {
      "name": "python"
    }
  },
  "cells": [
    {
      "cell_type": "markdown",
      "source": [
        "# LIMPIEZA DE DATOS CON PYTHON Y PANDAS"
      ],
      "metadata": {
        "id": "G6EM5qATAiMR"
      }
    },
    {
      "cell_type": "markdown",
      "source": [
        "## 1. Plantamiento del Problema:\n",
        "El Aeropuerto Internacional de Cancun, siendo uno de los mas transitados de Latinoamerica, enfrenta diversos retos relacionados con la seguridad y el control de actividades delictivas o administrativos. A lo largo de 2023, se registran multiples eventos de puestas a disposicion, que represnetan acciones legales\n",
        "El Aeropuerto Internacional de Cancun, siendo uno de los mas transitados de Latinoamerica, enfrenta diversos retos relacionados con la seguridad y el control de actividades delictivas o administrativos."
      ],
      "metadata": {
        "id": "9SBZwisKBAAg"
      }
    },
    {
      "cell_type": "markdown",
      "source": [
        "#2. El set de datos\n",
        "La informacion recolectada por la empresa de analisis se encuentra en un archivo excel(pd_2023.xlsx) con 572 filas y 11 columnas.\n",
        "\n",
        "De las cuales contiene 7 diferentes delitos que ocurrieron durante el año de 2023. Las columnas son:\n",
        "1. FECHA\n",
        "2. HORA DEL EVENTO\n",
        "3. TERMINAL\n",
        "4. ARMAS\n",
        "5. CARTUCHOS\n",
        "6. NACIONALES\n",
        "7. EXTRAJEROS\n",
        "8. DROGA(KG)\n",
        "9. DINERO\n",
        "8. DELITO"
      ],
      "metadata": {
        "id": "6MP_MLXpBQiR"
      }
    },
    {
      "cell_type": "markdown",
      "source": [
        "#3. Una primera mirada al dataset"
      ],
      "metadata": {
        "id": "ksaykEQZGQXv"
      }
    },
    {
      "cell_type": "code",
      "source": [
        "#importar librerias\n",
        "import pandas as pd\n",
        "import matplotlib\n",
        "import seaborn as sns"
      ],
      "metadata": {
        "id": "iZk55Pwi_o6O"
      },
      "execution_count": 2,
      "outputs": []
    },
    {
      "cell_type": "code",
      "source": [
        "#Lectura\n",
        "from google.colab import files\n",
        "uploaded = files.upload()"
      ],
      "metadata": {
        "colab": {
          "base_uri": "https://localhost:8080/",
          "height": 73
        },
        "id": "kiX1HjvzGgp1",
        "outputId": "9a4699f0-befe-4b87-daee-553037250bc4"
      },
      "execution_count": 3,
      "outputs": [
        {
          "output_type": "display_data",
          "data": {
            "text/plain": [
              "<IPython.core.display.HTML object>"
            ],
            "text/html": [
              "\n",
              "     <input type=\"file\" id=\"files-e96c0dc0-1ee7-4212-99e1-125f4aabd665\" name=\"files[]\" multiple disabled\n",
              "        style=\"border:none\" />\n",
              "     <output id=\"result-e96c0dc0-1ee7-4212-99e1-125f4aabd665\">\n",
              "      Upload widget is only available when the cell has been executed in the\n",
              "      current browser session. Please rerun this cell to enable.\n",
              "      </output>\n",
              "      <script>// Copyright 2017 Google LLC\n",
              "//\n",
              "// Licensed under the Apache License, Version 2.0 (the \"License\");\n",
              "// you may not use this file except in compliance with the License.\n",
              "// You may obtain a copy of the License at\n",
              "//\n",
              "//      http://www.apache.org/licenses/LICENSE-2.0\n",
              "//\n",
              "// Unless required by applicable law or agreed to in writing, software\n",
              "// distributed under the License is distributed on an \"AS IS\" BASIS,\n",
              "// WITHOUT WARRANTIES OR CONDITIONS OF ANY KIND, either express or implied.\n",
              "// See the License for the specific language governing permissions and\n",
              "// limitations under the License.\n",
              "\n",
              "/**\n",
              " * @fileoverview Helpers for google.colab Python module.\n",
              " */\n",
              "(function(scope) {\n",
              "function span(text, styleAttributes = {}) {\n",
              "  const element = document.createElement('span');\n",
              "  element.textContent = text;\n",
              "  for (const key of Object.keys(styleAttributes)) {\n",
              "    element.style[key] = styleAttributes[key];\n",
              "  }\n",
              "  return element;\n",
              "}\n",
              "\n",
              "// Max number of bytes which will be uploaded at a time.\n",
              "const MAX_PAYLOAD_SIZE = 100 * 1024;\n",
              "\n",
              "function _uploadFiles(inputId, outputId) {\n",
              "  const steps = uploadFilesStep(inputId, outputId);\n",
              "  const outputElement = document.getElementById(outputId);\n",
              "  // Cache steps on the outputElement to make it available for the next call\n",
              "  // to uploadFilesContinue from Python.\n",
              "  outputElement.steps = steps;\n",
              "\n",
              "  return _uploadFilesContinue(outputId);\n",
              "}\n",
              "\n",
              "// This is roughly an async generator (not supported in the browser yet),\n",
              "// where there are multiple asynchronous steps and the Python side is going\n",
              "// to poll for completion of each step.\n",
              "// This uses a Promise to block the python side on completion of each step,\n",
              "// then passes the result of the previous step as the input to the next step.\n",
              "function _uploadFilesContinue(outputId) {\n",
              "  const outputElement = document.getElementById(outputId);\n",
              "  const steps = outputElement.steps;\n",
              "\n",
              "  const next = steps.next(outputElement.lastPromiseValue);\n",
              "  return Promise.resolve(next.value.promise).then((value) => {\n",
              "    // Cache the last promise value to make it available to the next\n",
              "    // step of the generator.\n",
              "    outputElement.lastPromiseValue = value;\n",
              "    return next.value.response;\n",
              "  });\n",
              "}\n",
              "\n",
              "/**\n",
              " * Generator function which is called between each async step of the upload\n",
              " * process.\n",
              " * @param {string} inputId Element ID of the input file picker element.\n",
              " * @param {string} outputId Element ID of the output display.\n",
              " * @return {!Iterable<!Object>} Iterable of next steps.\n",
              " */\n",
              "function* uploadFilesStep(inputId, outputId) {\n",
              "  const inputElement = document.getElementById(inputId);\n",
              "  inputElement.disabled = false;\n",
              "\n",
              "  const outputElement = document.getElementById(outputId);\n",
              "  outputElement.innerHTML = '';\n",
              "\n",
              "  const pickedPromise = new Promise((resolve) => {\n",
              "    inputElement.addEventListener('change', (e) => {\n",
              "      resolve(e.target.files);\n",
              "    });\n",
              "  });\n",
              "\n",
              "  const cancel = document.createElement('button');\n",
              "  inputElement.parentElement.appendChild(cancel);\n",
              "  cancel.textContent = 'Cancel upload';\n",
              "  const cancelPromise = new Promise((resolve) => {\n",
              "    cancel.onclick = () => {\n",
              "      resolve(null);\n",
              "    };\n",
              "  });\n",
              "\n",
              "  // Wait for the user to pick the files.\n",
              "  const files = yield {\n",
              "    promise: Promise.race([pickedPromise, cancelPromise]),\n",
              "    response: {\n",
              "      action: 'starting',\n",
              "    }\n",
              "  };\n",
              "\n",
              "  cancel.remove();\n",
              "\n",
              "  // Disable the input element since further picks are not allowed.\n",
              "  inputElement.disabled = true;\n",
              "\n",
              "  if (!files) {\n",
              "    return {\n",
              "      response: {\n",
              "        action: 'complete',\n",
              "      }\n",
              "    };\n",
              "  }\n",
              "\n",
              "  for (const file of files) {\n",
              "    const li = document.createElement('li');\n",
              "    li.append(span(file.name, {fontWeight: 'bold'}));\n",
              "    li.append(span(\n",
              "        `(${file.type || 'n/a'}) - ${file.size} bytes, ` +\n",
              "        `last modified: ${\n",
              "            file.lastModifiedDate ? file.lastModifiedDate.toLocaleDateString() :\n",
              "                                    'n/a'} - `));\n",
              "    const percent = span('0% done');\n",
              "    li.appendChild(percent);\n",
              "\n",
              "    outputElement.appendChild(li);\n",
              "\n",
              "    const fileDataPromise = new Promise((resolve) => {\n",
              "      const reader = new FileReader();\n",
              "      reader.onload = (e) => {\n",
              "        resolve(e.target.result);\n",
              "      };\n",
              "      reader.readAsArrayBuffer(file);\n",
              "    });\n",
              "    // Wait for the data to be ready.\n",
              "    let fileData = yield {\n",
              "      promise: fileDataPromise,\n",
              "      response: {\n",
              "        action: 'continue',\n",
              "      }\n",
              "    };\n",
              "\n",
              "    // Use a chunked sending to avoid message size limits. See b/62115660.\n",
              "    let position = 0;\n",
              "    do {\n",
              "      const length = Math.min(fileData.byteLength - position, MAX_PAYLOAD_SIZE);\n",
              "      const chunk = new Uint8Array(fileData, position, length);\n",
              "      position += length;\n",
              "\n",
              "      const base64 = btoa(String.fromCharCode.apply(null, chunk));\n",
              "      yield {\n",
              "        response: {\n",
              "          action: 'append',\n",
              "          file: file.name,\n",
              "          data: base64,\n",
              "        },\n",
              "      };\n",
              "\n",
              "      let percentDone = fileData.byteLength === 0 ?\n",
              "          100 :\n",
              "          Math.round((position / fileData.byteLength) * 100);\n",
              "      percent.textContent = `${percentDone}% done`;\n",
              "\n",
              "    } while (position < fileData.byteLength);\n",
              "  }\n",
              "\n",
              "  // All done.\n",
              "  yield {\n",
              "    response: {\n",
              "      action: 'complete',\n",
              "    }\n",
              "  };\n",
              "}\n",
              "\n",
              "scope.google = scope.google || {};\n",
              "scope.google.colab = scope.google.colab || {};\n",
              "scope.google.colab._files = {\n",
              "  _uploadFiles,\n",
              "  _uploadFilesContinue,\n",
              "};\n",
              "})(self);\n",
              "</script> "
            ]
          },
          "metadata": {}
        },
        {
          "output_type": "stream",
          "name": "stdout",
          "text": [
            "Saving data.xlsx to data.xlsx\n"
          ]
        }
      ]
    },
    {
      "cell_type": "code",
      "source": [
        "data = pd.read_excel('data.xlsx')\n"
      ],
      "metadata": {
        "id": "Z2-Oyu5bGnZz"
      },
      "execution_count": 68,
      "outputs": []
    },
    {
      "cell_type": "code",
      "source": [
        "print(data.shape)\n",
        "data.head()"
      ],
      "metadata": {
        "colab": {
          "base_uri": "https://localhost:8080/",
          "height": 224
        },
        "id": "hXJTiCpZG1Md",
        "outputId": "16008128-1273-4217-ffc4-366007724175"
      },
      "execution_count": 69,
      "outputs": [
        {
          "output_type": "stream",
          "name": "stdout",
          "text": [
            "(572, 11)\n"
          ]
        },
        {
          "output_type": "execute_result",
          "data": {
            "text/plain": [
              "                FECHA  HORA DEL EVENTO TERMINAL   ARMAS   CARTUCHOS   \\\n",
              "0  2023-03-01 00:00:00        16:50:00         2       0           0   \n",
              "1  2023-04-01 00:00:00        18:25:00         3       0           0   \n",
              "2  2023-05-02 00:00:00        15:20:00         3       0           0   \n",
              "3  2023-01-06 00:00:00        14:37:00         3       0           0   \n",
              "4  2023-01-06 00:00:00        16:20:00         4       0           0   \n",
              "\n",
              "   CARGADORES  NACIONALES  EXTRANJEROS DROGA (KG)  DINERO  \\\n",
              "0            0          1            0          0     0.0   \n",
              "1            0          0            1          0     0.0   \n",
              "2            0          1            0          0     0.0   \n",
              "3            0          0            1       0.04     0.0   \n",
              "4            0          0            1          0     0.0   \n",
              "\n",
              "                     DELITO  \n",
              "0  ALTERAR EL ORDEN PUBLICO  \n",
              "1  ALTERAR EL ORDEN PUBLICO  \n",
              "2  ALTERAR EL ORDEN PUBLICO  \n",
              "3   DELITOS CONTRA LA SALUD  \n",
              "4   DELITOS CONTRA LA SALUD  "
            ],
            "text/html": [
              "\n",
              "  <div id=\"df-0e584595-1cba-46ec-823b-ad82c5883b39\" class=\"colab-df-container\">\n",
              "    <div>\n",
              "<style scoped>\n",
              "    .dataframe tbody tr th:only-of-type {\n",
              "        vertical-align: middle;\n",
              "    }\n",
              "\n",
              "    .dataframe tbody tr th {\n",
              "        vertical-align: top;\n",
              "    }\n",
              "\n",
              "    .dataframe thead th {\n",
              "        text-align: right;\n",
              "    }\n",
              "</style>\n",
              "<table border=\"1\" class=\"dataframe\">\n",
              "  <thead>\n",
              "    <tr style=\"text-align: right;\">\n",
              "      <th></th>\n",
              "      <th>FECHA</th>\n",
              "      <th>HORA DEL EVENTO</th>\n",
              "      <th>TERMINAL</th>\n",
              "      <th>ARMAS</th>\n",
              "      <th>CARTUCHOS</th>\n",
              "      <th>CARGADORES</th>\n",
              "      <th>NACIONALES</th>\n",
              "      <th>EXTRANJEROS</th>\n",
              "      <th>DROGA (KG)</th>\n",
              "      <th>DINERO</th>\n",
              "      <th>DELITO</th>\n",
              "    </tr>\n",
              "  </thead>\n",
              "  <tbody>\n",
              "    <tr>\n",
              "      <th>0</th>\n",
              "      <td>2023-03-01 00:00:00</td>\n",
              "      <td>16:50:00</td>\n",
              "      <td>2</td>\n",
              "      <td>0</td>\n",
              "      <td>0</td>\n",
              "      <td>0</td>\n",
              "      <td>1</td>\n",
              "      <td>0</td>\n",
              "      <td>0</td>\n",
              "      <td>0.0</td>\n",
              "      <td>ALTERAR EL ORDEN PUBLICO</td>\n",
              "    </tr>\n",
              "    <tr>\n",
              "      <th>1</th>\n",
              "      <td>2023-04-01 00:00:00</td>\n",
              "      <td>18:25:00</td>\n",
              "      <td>3</td>\n",
              "      <td>0</td>\n",
              "      <td>0</td>\n",
              "      <td>0</td>\n",
              "      <td>0</td>\n",
              "      <td>1</td>\n",
              "      <td>0</td>\n",
              "      <td>0.0</td>\n",
              "      <td>ALTERAR EL ORDEN PUBLICO</td>\n",
              "    </tr>\n",
              "    <tr>\n",
              "      <th>2</th>\n",
              "      <td>2023-05-02 00:00:00</td>\n",
              "      <td>15:20:00</td>\n",
              "      <td>3</td>\n",
              "      <td>0</td>\n",
              "      <td>0</td>\n",
              "      <td>0</td>\n",
              "      <td>1</td>\n",
              "      <td>0</td>\n",
              "      <td>0</td>\n",
              "      <td>0.0</td>\n",
              "      <td>ALTERAR EL ORDEN PUBLICO</td>\n",
              "    </tr>\n",
              "    <tr>\n",
              "      <th>3</th>\n",
              "      <td>2023-01-06 00:00:00</td>\n",
              "      <td>14:37:00</td>\n",
              "      <td>3</td>\n",
              "      <td>0</td>\n",
              "      <td>0</td>\n",
              "      <td>0</td>\n",
              "      <td>0</td>\n",
              "      <td>1</td>\n",
              "      <td>0.04</td>\n",
              "      <td>0.0</td>\n",
              "      <td>DELITOS CONTRA LA SALUD</td>\n",
              "    </tr>\n",
              "    <tr>\n",
              "      <th>4</th>\n",
              "      <td>2023-01-06 00:00:00</td>\n",
              "      <td>16:20:00</td>\n",
              "      <td>4</td>\n",
              "      <td>0</td>\n",
              "      <td>0</td>\n",
              "      <td>0</td>\n",
              "      <td>0</td>\n",
              "      <td>1</td>\n",
              "      <td>0</td>\n",
              "      <td>0.0</td>\n",
              "      <td>DELITOS CONTRA LA SALUD</td>\n",
              "    </tr>\n",
              "  </tbody>\n",
              "</table>\n",
              "</div>\n",
              "    <div class=\"colab-df-buttons\">\n",
              "\n",
              "  <div class=\"colab-df-container\">\n",
              "    <button class=\"colab-df-convert\" onclick=\"convertToInteractive('df-0e584595-1cba-46ec-823b-ad82c5883b39')\"\n",
              "            title=\"Convert this dataframe to an interactive table.\"\n",
              "            style=\"display:none;\">\n",
              "\n",
              "  <svg xmlns=\"http://www.w3.org/2000/svg\" height=\"24px\" viewBox=\"0 -960 960 960\">\n",
              "    <path d=\"M120-120v-720h720v720H120Zm60-500h600v-160H180v160Zm220 220h160v-160H400v160Zm0 220h160v-160H400v160ZM180-400h160v-160H180v160Zm440 0h160v-160H620v160ZM180-180h160v-160H180v160Zm440 0h160v-160H620v160Z\"/>\n",
              "  </svg>\n",
              "    </button>\n",
              "\n",
              "  <style>\n",
              "    .colab-df-container {\n",
              "      display:flex;\n",
              "      gap: 12px;\n",
              "    }\n",
              "\n",
              "    .colab-df-convert {\n",
              "      background-color: #E8F0FE;\n",
              "      border: none;\n",
              "      border-radius: 50%;\n",
              "      cursor: pointer;\n",
              "      display: none;\n",
              "      fill: #1967D2;\n",
              "      height: 32px;\n",
              "      padding: 0 0 0 0;\n",
              "      width: 32px;\n",
              "    }\n",
              "\n",
              "    .colab-df-convert:hover {\n",
              "      background-color: #E2EBFA;\n",
              "      box-shadow: 0px 1px 2px rgba(60, 64, 67, 0.3), 0px 1px 3px 1px rgba(60, 64, 67, 0.15);\n",
              "      fill: #174EA6;\n",
              "    }\n",
              "\n",
              "    .colab-df-buttons div {\n",
              "      margin-bottom: 4px;\n",
              "    }\n",
              "\n",
              "    [theme=dark] .colab-df-convert {\n",
              "      background-color: #3B4455;\n",
              "      fill: #D2E3FC;\n",
              "    }\n",
              "\n",
              "    [theme=dark] .colab-df-convert:hover {\n",
              "      background-color: #434B5C;\n",
              "      box-shadow: 0px 1px 3px 1px rgba(0, 0, 0, 0.15);\n",
              "      filter: drop-shadow(0px 1px 2px rgba(0, 0, 0, 0.3));\n",
              "      fill: #FFFFFF;\n",
              "    }\n",
              "  </style>\n",
              "\n",
              "    <script>\n",
              "      const buttonEl =\n",
              "        document.querySelector('#df-0e584595-1cba-46ec-823b-ad82c5883b39 button.colab-df-convert');\n",
              "      buttonEl.style.display =\n",
              "        google.colab.kernel.accessAllowed ? 'block' : 'none';\n",
              "\n",
              "      async function convertToInteractive(key) {\n",
              "        const element = document.querySelector('#df-0e584595-1cba-46ec-823b-ad82c5883b39');\n",
              "        const dataTable =\n",
              "          await google.colab.kernel.invokeFunction('convertToInteractive',\n",
              "                                                    [key], {});\n",
              "        if (!dataTable) return;\n",
              "\n",
              "        const docLinkHtml = 'Like what you see? Visit the ' +\n",
              "          '<a target=\"_blank\" href=https://colab.research.google.com/notebooks/data_table.ipynb>data table notebook</a>'\n",
              "          + ' to learn more about interactive tables.';\n",
              "        element.innerHTML = '';\n",
              "        dataTable['output_type'] = 'display_data';\n",
              "        await google.colab.output.renderOutput(dataTable, element);\n",
              "        const docLink = document.createElement('div');\n",
              "        docLink.innerHTML = docLinkHtml;\n",
              "        element.appendChild(docLink);\n",
              "      }\n",
              "    </script>\n",
              "  </div>\n",
              "\n",
              "\n",
              "    <div id=\"df-aa5aae34-3712-4f82-99ae-e0316f8817a6\">\n",
              "      <button class=\"colab-df-quickchart\" onclick=\"quickchart('df-aa5aae34-3712-4f82-99ae-e0316f8817a6')\"\n",
              "                title=\"Suggest charts\"\n",
              "                style=\"display:none;\">\n",
              "\n",
              "<svg xmlns=\"http://www.w3.org/2000/svg\" height=\"24px\"viewBox=\"0 0 24 24\"\n",
              "     width=\"24px\">\n",
              "    <g>\n",
              "        <path d=\"M19 3H5c-1.1 0-2 .9-2 2v14c0 1.1.9 2 2 2h14c1.1 0 2-.9 2-2V5c0-1.1-.9-2-2-2zM9 17H7v-7h2v7zm4 0h-2V7h2v10zm4 0h-2v-4h2v4z\"/>\n",
              "    </g>\n",
              "</svg>\n",
              "      </button>\n",
              "\n",
              "<style>\n",
              "  .colab-df-quickchart {\n",
              "      --bg-color: #E8F0FE;\n",
              "      --fill-color: #1967D2;\n",
              "      --hover-bg-color: #E2EBFA;\n",
              "      --hover-fill-color: #174EA6;\n",
              "      --disabled-fill-color: #AAA;\n",
              "      --disabled-bg-color: #DDD;\n",
              "  }\n",
              "\n",
              "  [theme=dark] .colab-df-quickchart {\n",
              "      --bg-color: #3B4455;\n",
              "      --fill-color: #D2E3FC;\n",
              "      --hover-bg-color: #434B5C;\n",
              "      --hover-fill-color: #FFFFFF;\n",
              "      --disabled-bg-color: #3B4455;\n",
              "      --disabled-fill-color: #666;\n",
              "  }\n",
              "\n",
              "  .colab-df-quickchart {\n",
              "    background-color: var(--bg-color);\n",
              "    border: none;\n",
              "    border-radius: 50%;\n",
              "    cursor: pointer;\n",
              "    display: none;\n",
              "    fill: var(--fill-color);\n",
              "    height: 32px;\n",
              "    padding: 0;\n",
              "    width: 32px;\n",
              "  }\n",
              "\n",
              "  .colab-df-quickchart:hover {\n",
              "    background-color: var(--hover-bg-color);\n",
              "    box-shadow: 0 1px 2px rgba(60, 64, 67, 0.3), 0 1px 3px 1px rgba(60, 64, 67, 0.15);\n",
              "    fill: var(--button-hover-fill-color);\n",
              "  }\n",
              "\n",
              "  .colab-df-quickchart-complete:disabled,\n",
              "  .colab-df-quickchart-complete:disabled:hover {\n",
              "    background-color: var(--disabled-bg-color);\n",
              "    fill: var(--disabled-fill-color);\n",
              "    box-shadow: none;\n",
              "  }\n",
              "\n",
              "  .colab-df-spinner {\n",
              "    border: 2px solid var(--fill-color);\n",
              "    border-color: transparent;\n",
              "    border-bottom-color: var(--fill-color);\n",
              "    animation:\n",
              "      spin 1s steps(1) infinite;\n",
              "  }\n",
              "\n",
              "  @keyframes spin {\n",
              "    0% {\n",
              "      border-color: transparent;\n",
              "      border-bottom-color: var(--fill-color);\n",
              "      border-left-color: var(--fill-color);\n",
              "    }\n",
              "    20% {\n",
              "      border-color: transparent;\n",
              "      border-left-color: var(--fill-color);\n",
              "      border-top-color: var(--fill-color);\n",
              "    }\n",
              "    30% {\n",
              "      border-color: transparent;\n",
              "      border-left-color: var(--fill-color);\n",
              "      border-top-color: var(--fill-color);\n",
              "      border-right-color: var(--fill-color);\n",
              "    }\n",
              "    40% {\n",
              "      border-color: transparent;\n",
              "      border-right-color: var(--fill-color);\n",
              "      border-top-color: var(--fill-color);\n",
              "    }\n",
              "    60% {\n",
              "      border-color: transparent;\n",
              "      border-right-color: var(--fill-color);\n",
              "    }\n",
              "    80% {\n",
              "      border-color: transparent;\n",
              "      border-right-color: var(--fill-color);\n",
              "      border-bottom-color: var(--fill-color);\n",
              "    }\n",
              "    90% {\n",
              "      border-color: transparent;\n",
              "      border-bottom-color: var(--fill-color);\n",
              "    }\n",
              "  }\n",
              "</style>\n",
              "\n",
              "      <script>\n",
              "        async function quickchart(key) {\n",
              "          const quickchartButtonEl =\n",
              "            document.querySelector('#' + key + ' button');\n",
              "          quickchartButtonEl.disabled = true;  // To prevent multiple clicks.\n",
              "          quickchartButtonEl.classList.add('colab-df-spinner');\n",
              "          try {\n",
              "            const charts = await google.colab.kernel.invokeFunction(\n",
              "                'suggestCharts', [key], {});\n",
              "          } catch (error) {\n",
              "            console.error('Error during call to suggestCharts:', error);\n",
              "          }\n",
              "          quickchartButtonEl.classList.remove('colab-df-spinner');\n",
              "          quickchartButtonEl.classList.add('colab-df-quickchart-complete');\n",
              "        }\n",
              "        (() => {\n",
              "          let quickchartButtonEl =\n",
              "            document.querySelector('#df-aa5aae34-3712-4f82-99ae-e0316f8817a6 button');\n",
              "          quickchartButtonEl.style.display =\n",
              "            google.colab.kernel.accessAllowed ? 'block' : 'none';\n",
              "        })();\n",
              "      </script>\n",
              "    </div>\n",
              "\n",
              "    </div>\n",
              "  </div>\n"
            ],
            "application/vnd.google.colaboratory.intrinsic+json": {
              "type": "dataframe",
              "variable_name": "data",
              "summary": "{\n  \"name\": \"data\",\n  \"rows\": 572,\n  \"fields\": [\n    {\n      \"column\": \"FECHA \",\n      \"properties\": {\n        \"dtype\": \"date\",\n        \"min\": \"2023-01-06 00:00:00\",\n        \"max\": \"2023-12-30 00:00:00\",\n        \"num_unique_values\": 283,\n        \"samples\": [\n          \"2023-01-13 00:00:00\",\n          \"2023-11-16 00:00:00\",\n          \"2023-07-07 00:00:00\"\n        ],\n        \"semantic_type\": \"\",\n        \"description\": \"\"\n      }\n    },\n    {\n      \"column\": \"HORA DEL EVENTO\",\n      \"properties\": {\n        \"dtype\": \"category\",\n        \"num_unique_values\": 227,\n        \"samples\": [\n          \"16:15:00\",\n          \"10:25:00\",\n          \"08:20:00\"\n        ],\n        \"semantic_type\": \"\",\n        \"description\": \"\"\n      }\n    },\n    {\n      \"column\": \"TERMINAL \",\n      \"properties\": {\n        \"dtype\": \"category\",\n        \"num_unique_values\": 6,\n        \"samples\": [\n          2,\n          3,\n          \"ADUANAS\"\n        ],\n        \"semantic_type\": \"\",\n        \"description\": \"\"\n      }\n    },\n    {\n      \"column\": \"ARMAS \",\n      \"properties\": {\n        \"dtype\": \"number\",\n        \"std\": 0,\n        \"min\": 0,\n        \"max\": 1,\n        \"num_unique_values\": 2,\n        \"samples\": [\n          1,\n          0\n        ],\n        \"semantic_type\": \"\",\n        \"description\": \"\"\n      }\n    },\n    {\n      \"column\": \"CARTUCHOS \",\n      \"properties\": {\n        \"dtype\": \"number\",\n        \"std\": 5,\n        \"min\": 0,\n        \"max\": 60,\n        \"num_unique_values\": 18,\n        \"samples\": [\n          0,\n          2\n        ],\n        \"semantic_type\": \"\",\n        \"description\": \"\"\n      }\n    },\n    {\n      \"column\": \"CARGADORES \",\n      \"properties\": {\n        \"dtype\": \"number\",\n        \"std\": 0,\n        \"min\": 0,\n        \"max\": 6,\n        \"num_unique_values\": 6,\n        \"samples\": [\n          0,\n          1\n        ],\n        \"semantic_type\": \"\",\n        \"description\": \"\"\n      }\n    },\n    {\n      \"column\": \"NACIONALES\",\n      \"properties\": {\n        \"dtype\": \"category\",\n        \"num_unique_values\": 6,\n        \"samples\": [\n          1,\n          0\n        ],\n        \"semantic_type\": \"\",\n        \"description\": \"\"\n      }\n    },\n    {\n      \"column\": \"EXTRANJEROS\",\n      \"properties\": {\n        \"dtype\": \"number\",\n        \"std\": 0,\n        \"min\": 0,\n        \"max\": 3,\n        \"num_unique_values\": 4,\n        \"samples\": [\n          1,\n          3\n        ],\n        \"semantic_type\": \"\",\n        \"description\": \"\"\n      }\n    },\n    {\n      \"column\": \"DROGA (KG)\",\n      \"properties\": {\n        \"dtype\": \"category\",\n        \"num_unique_values\": 184,\n        \"samples\": [\n          0.007,\n          0.0239\n        ],\n        \"semantic_type\": \"\",\n        \"description\": \"\"\n      }\n    },\n    {\n      \"column\": \"DINERO\",\n      \"properties\": {\n        \"dtype\": \"number\",\n        \"std\": 3400.2573546120093,\n        \"min\": 0.0,\n        \"max\": 56100.0,\n        \"num_unique_values\": 5,\n        \"samples\": [\n          56100.0,\n          30000.0\n        ],\n        \"semantic_type\": \"\",\n        \"description\": \"\"\n      }\n    },\n    {\n      \"column\": \"DELITO\",\n      \"properties\": {\n        \"dtype\": \"category\",\n        \"num_unique_values\": 7,\n        \"samples\": [\n          \"ALTERAR EL ORDEN PUBLICO\",\n          \"DELITOS CONTRA LA SALUD\"\n        ],\n        \"semantic_type\": \"\",\n        \"description\": \"\"\n      }\n    }\n  ]\n}"
            }
          },
          "metadata": {},
          "execution_count": 69
        }
      ]
    },
    {
      "cell_type": "code",
      "source": [
        "# Veamos las variables categoricas y las numericas\n",
        "data.info()"
      ],
      "metadata": {
        "colab": {
          "base_uri": "https://localhost:8080/",
          "height": 0
        },
        "id": "85D3bSP9G5c6",
        "outputId": "bb6bee7a-b1aa-4a02-8c6e-faef1aa56360"
      },
      "execution_count": 70,
      "outputs": [
        {
          "output_type": "stream",
          "name": "stdout",
          "text": [
            "<class 'pandas.core.frame.DataFrame'>\n",
            "RangeIndex: 572 entries, 0 to 571\n",
            "Data columns (total 11 columns):\n",
            " #   Column           Non-Null Count  Dtype  \n",
            "---  ------           --------------  -----  \n",
            " 0   FECHA            572 non-null    object \n",
            " 1   HORA DEL EVENTO  572 non-null    object \n",
            " 2   TERMINAL         572 non-null    object \n",
            " 3   ARMAS            572 non-null    int64  \n",
            " 4   CARTUCHOS        572 non-null    int64  \n",
            " 5   CARGADORES       572 non-null    int64  \n",
            " 6   NACIONALES       572 non-null    object \n",
            " 7   EXTRANJEROS      572 non-null    int64  \n",
            " 8   DROGA (KG)       571 non-null    object \n",
            " 9   DINERO           572 non-null    float64\n",
            " 10  DELITO           572 non-null    object \n",
            "dtypes: float64(1), int64(4), object(6)\n",
            "memory usage: 49.3+ KB\n"
          ]
        }
      ]
    },
    {
      "cell_type": "markdown",
      "source": [
        "#4. Limpieza\n",
        "Procedemos a realizar el proceso de limpieza."
      ],
      "metadata": {
        "id": "mhiQw2b3HlPd"
      }
    },
    {
      "cell_type": "markdown",
      "source": [
        "#4.1 Datos faltantes"
      ],
      "metadata": {
        "id": "kq-UxFltHn5A"
      }
    },
    {
      "cell_type": "code",
      "source": [
        "data.dropna(inplace=True)\n",
        "data.info()"
      ],
      "metadata": {
        "colab": {
          "base_uri": "https://localhost:8080/",
          "height": 0
        },
        "id": "Yda1Ui9wHhwE",
        "outputId": "c84ca681-0eec-489d-82e4-6b8e9196f820"
      },
      "execution_count": 71,
      "outputs": [
        {
          "output_type": "stream",
          "name": "stdout",
          "text": [
            "<class 'pandas.core.frame.DataFrame'>\n",
            "Index: 571 entries, 0 to 571\n",
            "Data columns (total 11 columns):\n",
            " #   Column           Non-Null Count  Dtype  \n",
            "---  ------           --------------  -----  \n",
            " 0   FECHA            571 non-null    object \n",
            " 1   HORA DEL EVENTO  571 non-null    object \n",
            " 2   TERMINAL         571 non-null    object \n",
            " 3   ARMAS            571 non-null    int64  \n",
            " 4   CARTUCHOS        571 non-null    int64  \n",
            " 5   CARGADORES       571 non-null    int64  \n",
            " 6   NACIONALES       571 non-null    object \n",
            " 7   EXTRANJEROS      571 non-null    int64  \n",
            " 8   DROGA (KG)       571 non-null    object \n",
            " 9   DINERO           571 non-null    float64\n",
            " 10  DELITO           571 non-null    object \n",
            "dtypes: float64(1), int64(4), object(6)\n",
            "memory usage: 53.5+ KB\n"
          ]
        }
      ]
    },
    {
      "cell_type": "markdown",
      "source": [
        "##Convertimos las columnas NACIONALES Y DROGA(KG) en INT64"
      ],
      "metadata": {
        "id": "KUqmXRAKJuVI"
      }
    },
    {
      "cell_type": "code",
      "source": [
        "# Droga\n",
        "data['DROGA (KG)'].unique()\n",
        "data['DROGA (KG)'] = pd.to_numeric(data['DROGA (KG)'], errors='coerce')  # convierte errores en NaN\n",
        "\n",
        "# Nacionales\n",
        "data['NACIONALES'].unique()\n",
        "data['NACIONALES'] = pd.to_numeric(data['NACIONALES'], errors='coerce')  # convierte errores en NaN"
      ],
      "metadata": {
        "id": "7cqPDqAvH4sI"
      },
      "execution_count": 72,
      "outputs": []
    },
    {
      "cell_type": "code",
      "source": [
        "data['DROGA (KG)'] = data['DROGA (KG)'].fillna(0)\n",
        "data['DROGA (KG)'] = data['DROGA (KG)'].astype('float')\n",
        "\n",
        "data['NACIONALES'] = data['NACIONALES'].fillna(0)\n",
        "data['NACIONALES'] = data['NACIONALES'].astype('int64')\n",
        "data.info()"
      ],
      "metadata": {
        "colab": {
          "base_uri": "https://localhost:8080/",
          "height": 0
        },
        "id": "PAaqcRihJFtu",
        "outputId": "c9d8e1da-d3de-46a7-e8e1-51e56a9ffa8d"
      },
      "execution_count": 73,
      "outputs": [
        {
          "output_type": "stream",
          "name": "stdout",
          "text": [
            "<class 'pandas.core.frame.DataFrame'>\n",
            "Index: 571 entries, 0 to 571\n",
            "Data columns (total 11 columns):\n",
            " #   Column           Non-Null Count  Dtype  \n",
            "---  ------           --------------  -----  \n",
            " 0   FECHA            571 non-null    object \n",
            " 1   HORA DEL EVENTO  571 non-null    object \n",
            " 2   TERMINAL         571 non-null    object \n",
            " 3   ARMAS            571 non-null    int64  \n",
            " 4   CARTUCHOS        571 non-null    int64  \n",
            " 5   CARGADORES       571 non-null    int64  \n",
            " 6   NACIONALES       571 non-null    int64  \n",
            " 7   EXTRANJEROS      571 non-null    int64  \n",
            " 8   DROGA (KG)       571 non-null    float64\n",
            " 9   DINERO           571 non-null    float64\n",
            " 10  DELITO           571 non-null    object \n",
            "dtypes: float64(2), int64(5), object(4)\n",
            "memory usage: 53.5+ KB\n"
          ]
        }
      ]
    },
    {
      "cell_type": "code",
      "source": [
        "print(data['DROGA (KG)'].sum())\n",
        "print(data['NACIONALES'].sum())"
      ],
      "metadata": {
        "colab": {
          "base_uri": "https://localhost:8080/",
          "height": 0
        },
        "id": "q0jCDvY7PBkk",
        "outputId": "a9640511-31a5-429d-b7d9-bb15ae6755fc"
      },
      "execution_count": 74,
      "outputs": [
        {
          "output_type": "stream",
          "name": "stdout",
          "text": [
            "87.67072\n",
            "284\n"
          ]
        }
      ]
    },
    {
      "cell_type": "markdown",
      "source": [
        "#4.2 Errores tipograficos en las columna"
      ],
      "metadata": {
        "id": "G7Vn7if2H80U"
      }
    },
    {
      "cell_type": "code",
      "source": [
        "data.columns"
      ],
      "metadata": {
        "colab": {
          "base_uri": "https://localhost:8080/",
          "height": 0
        },
        "id": "mMu69T-oIO77",
        "outputId": "7198ebe1-1e81-4f45-932b-0e0904d103fc"
      },
      "execution_count": 75,
      "outputs": [
        {
          "output_type": "execute_result",
          "data": {
            "text/plain": [
              "Index(['FECHA ', 'HORA DEL EVENTO', 'TERMINAL ', 'ARMAS ', 'CARTUCHOS ',\n",
              "       'CARGADORES ', 'NACIONALES', 'EXTRANJEROS', 'DROGA (KG)', 'DINERO',\n",
              "       'DELITO'],\n",
              "      dtype='object')"
            ]
          },
          "metadata": {},
          "execution_count": 75
        }
      ]
    },
    {
      "cell_type": "markdown",
      "source": [
        "**Observaciones**\n",
        "\"FECHA, TERMINAL, CARTUCHOS Y CARFADORES\": tiene un espacio al final"
      ],
      "metadata": {
        "id": "jvsyn0fyJAiX"
      }
    },
    {
      "cell_type": "code",
      "source": [
        "#Eliminamos los espacios en blanco\n",
        "data.columns = data.columns.str.strip()"
      ],
      "metadata": {
        "id": "YV6S7jpsJhsn"
      },
      "execution_count": 76,
      "outputs": []
    },
    {
      "cell_type": "code",
      "source": [
        "#Renombramos las columanas a minuscula\n",
        "data.columns = data.columns.str.lower()\n",
        "\n",
        "#Renombramos\n",
        "data = data.rename(columns={'hora del evento': 'hora'})\n",
        "data.columns"
      ],
      "metadata": {
        "colab": {
          "base_uri": "https://localhost:8080/",
          "height": 0
        },
        "id": "x3aOs5EFJzp4",
        "outputId": "dab60ea5-4945-40fd-af1d-a9b369b72020"
      },
      "execution_count": 77,
      "outputs": [
        {
          "output_type": "execute_result",
          "data": {
            "text/plain": [
              "Index(['fecha', 'hora', 'terminal', 'armas', 'cartuchos', 'cargadores',\n",
              "       'nacionales', 'extranjeros', 'droga (kg)', 'dinero', 'delito'],\n",
              "      dtype='object')"
            ]
          },
          "metadata": {},
          "execution_count": 77
        }
      ]
    },
    {
      "cell_type": "markdown",
      "source": [
        "## Convetirmos la fecha en formato dia mes y año"
      ],
      "metadata": {
        "id": "fOoBhoG-Q_sh"
      }
    },
    {
      "cell_type": "code",
      "source": [
        "data['fecha'] = pd.to_datetime(data['fecha'], errors='coerce')\n",
        "data['fecha'] = data['fecha'].dt.strftime('%d/%m/%Y')\n",
        "data['fecha'] = data['fecha'].astype('datetime64[ns]')\n",
        "data.info()"
      ],
      "metadata": {
        "colab": {
          "base_uri": "https://localhost:8080/",
          "height": 0
        },
        "id": "xkzsSqdjRH0V",
        "outputId": "5d15ca75-58c8-47ad-822a-5aca7440450e"
      },
      "execution_count": 78,
      "outputs": [
        {
          "output_type": "stream",
          "name": "stdout",
          "text": [
            "<class 'pandas.core.frame.DataFrame'>\n",
            "Index: 571 entries, 0 to 571\n",
            "Data columns (total 11 columns):\n",
            " #   Column       Non-Null Count  Dtype         \n",
            "---  ------       --------------  -----         \n",
            " 0   fecha        571 non-null    datetime64[ns]\n",
            " 1   hora         571 non-null    object        \n",
            " 2   terminal     571 non-null    object        \n",
            " 3   armas        571 non-null    int64         \n",
            " 4   cartuchos    571 non-null    int64         \n",
            " 5   cargadores   571 non-null    int64         \n",
            " 6   nacionales   571 non-null    int64         \n",
            " 7   extranjeros  571 non-null    int64         \n",
            " 8   droga (kg)   571 non-null    float64       \n",
            " 9   dinero       571 non-null    float64       \n",
            " 10  delito       571 non-null    object        \n",
            "dtypes: datetime64[ns](1), float64(2), int64(5), object(3)\n",
            "memory usage: 53.5+ KB\n"
          ]
        }
      ]
    },
    {
      "cell_type": "code",
      "source": [
        "data['fecha']"
      ],
      "metadata": {
        "colab": {
          "base_uri": "https://localhost:8080/",
          "height": 458
        },
        "id": "EerPyOZMRWL1",
        "outputId": "9b2acfee-a2b8-439e-f17c-8c82c3f1f89c"
      },
      "execution_count": 79,
      "outputs": [
        {
          "output_type": "execute_result",
          "data": {
            "text/plain": [
              "0     2023-01-03\n",
              "1     2023-01-04\n",
              "2     2023-02-05\n",
              "3     2023-06-01\n",
              "4     2023-06-01\n",
              "         ...    \n",
              "567   2023-12-28\n",
              "568   2023-12-29\n",
              "569   2023-12-29\n",
              "570   2023-12-29\n",
              "571   2023-12-30\n",
              "Name: fecha, Length: 571, dtype: datetime64[ns]"
            ],
            "text/html": [
              "<div>\n",
              "<style scoped>\n",
              "    .dataframe tbody tr th:only-of-type {\n",
              "        vertical-align: middle;\n",
              "    }\n",
              "\n",
              "    .dataframe tbody tr th {\n",
              "        vertical-align: top;\n",
              "    }\n",
              "\n",
              "    .dataframe thead th {\n",
              "        text-align: right;\n",
              "    }\n",
              "</style>\n",
              "<table border=\"1\" class=\"dataframe\">\n",
              "  <thead>\n",
              "    <tr style=\"text-align: right;\">\n",
              "      <th></th>\n",
              "      <th>fecha</th>\n",
              "    </tr>\n",
              "  </thead>\n",
              "  <tbody>\n",
              "    <tr>\n",
              "      <th>0</th>\n",
              "      <td>2023-01-03</td>\n",
              "    </tr>\n",
              "    <tr>\n",
              "      <th>1</th>\n",
              "      <td>2023-01-04</td>\n",
              "    </tr>\n",
              "    <tr>\n",
              "      <th>2</th>\n",
              "      <td>2023-02-05</td>\n",
              "    </tr>\n",
              "    <tr>\n",
              "      <th>3</th>\n",
              "      <td>2023-06-01</td>\n",
              "    </tr>\n",
              "    <tr>\n",
              "      <th>4</th>\n",
              "      <td>2023-06-01</td>\n",
              "    </tr>\n",
              "    <tr>\n",
              "      <th>...</th>\n",
              "      <td>...</td>\n",
              "    </tr>\n",
              "    <tr>\n",
              "      <th>567</th>\n",
              "      <td>2023-12-28</td>\n",
              "    </tr>\n",
              "    <tr>\n",
              "      <th>568</th>\n",
              "      <td>2023-12-29</td>\n",
              "    </tr>\n",
              "    <tr>\n",
              "      <th>569</th>\n",
              "      <td>2023-12-29</td>\n",
              "    </tr>\n",
              "    <tr>\n",
              "      <th>570</th>\n",
              "      <td>2023-12-29</td>\n",
              "    </tr>\n",
              "    <tr>\n",
              "      <th>571</th>\n",
              "      <td>2023-12-30</td>\n",
              "    </tr>\n",
              "  </tbody>\n",
              "</table>\n",
              "<p>571 rows × 1 columns</p>\n",
              "</div><br><label><b>dtype:</b> datetime64[ns]</label>"
            ]
          },
          "metadata": {},
          "execution_count": 79
        }
      ]
    },
    {
      "cell_type": "markdown",
      "source": [
        "**Hemos realizaod la limpieza de los datos**"
      ],
      "metadata": {
        "id": "xqCvringLMwd"
      }
    },
    {
      "cell_type": "code",
      "source": [
        "# Guardamos el dataframe limpio a un archivo CSV\n",
        "data.to_csv('data_limpio.csv', index=False)"
      ],
      "metadata": {
        "id": "pPVheLzUKDAq"
      },
      "execution_count": 52,
      "outputs": []
    },
    {
      "cell_type": "code",
      "source": [],
      "metadata": {
        "id": "LDyMyqjGLk6B"
      },
      "execution_count": 52,
      "outputs": []
    }
  ]
}